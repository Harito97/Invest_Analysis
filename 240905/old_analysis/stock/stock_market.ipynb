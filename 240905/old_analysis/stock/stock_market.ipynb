{
 "cells": [
  {
   "cell_type": "code",
   "execution_count": 3,
   "metadata": {},
   "outputs": [
    {
     "name": "stdout",
     "output_type": "stream",
     "text": [
      "Requirement already satisfied: yfinance in /Data/Projects/venv_manager/financial#311/lib/python3.11/site-packages (0.2.43)\n",
      "Requirement already satisfied: pandas>=1.3.0 in /Data/Projects/venv_manager/financial#311/lib/python3.11/site-packages (from yfinance) (2.2.2)\n",
      "Requirement already satisfied: numpy>=1.16.5 in /Data/Projects/venv_manager/financial#311/lib/python3.11/site-packages (from yfinance) (2.1.1)\n",
      "Requirement already satisfied: requests>=2.31 in /Data/Projects/venv_manager/financial#311/lib/python3.11/site-packages (from yfinance) (2.32.3)\n",
      "Requirement already satisfied: multitasking>=0.0.7 in /Data/Projects/venv_manager/financial#311/lib/python3.11/site-packages (from yfinance) (0.0.11)\n",
      "Requirement already satisfied: lxml>=4.9.1 in /Data/Projects/venv_manager/financial#311/lib/python3.11/site-packages (from yfinance) (5.3.0)\n",
      "Requirement already satisfied: platformdirs>=2.0.0 in /Data/Projects/venv_manager/financial#311/lib/python3.11/site-packages (from yfinance) (4.3.2)\n",
      "Requirement already satisfied: pytz>=2022.5 in /Data/Projects/venv_manager/financial#311/lib/python3.11/site-packages (from yfinance) (2024.1)\n",
      "Requirement already satisfied: frozendict>=2.3.4 in /Data/Projects/venv_manager/financial#311/lib/python3.11/site-packages (from yfinance) (2.4.4)\n",
      "Requirement already satisfied: peewee>=3.16.2 in /Data/Projects/venv_manager/financial#311/lib/python3.11/site-packages (from yfinance) (3.17.6)\n",
      "Requirement already satisfied: beautifulsoup4>=4.11.1 in /Data/Projects/venv_manager/financial#311/lib/python3.11/site-packages (from yfinance) (4.12.3)\n",
      "Requirement already satisfied: html5lib>=1.1 in /Data/Projects/venv_manager/financial#311/lib/python3.11/site-packages (from yfinance) (1.1)\n",
      "Requirement already satisfied: soupsieve>1.2 in /Data/Projects/venv_manager/financial#311/lib/python3.11/site-packages (from beautifulsoup4>=4.11.1->yfinance) (2.6)\n",
      "Requirement already satisfied: six>=1.9 in /Data/Projects/venv_manager/financial#311/lib/python3.11/site-packages (from html5lib>=1.1->yfinance) (1.16.0)\n",
      "Requirement already satisfied: webencodings in /Data/Projects/venv_manager/financial#311/lib/python3.11/site-packages (from html5lib>=1.1->yfinance) (0.5.1)\n",
      "Requirement already satisfied: python-dateutil>=2.8.2 in /Data/Projects/venv_manager/financial#311/lib/python3.11/site-packages (from pandas>=1.3.0->yfinance) (2.9.0.post0)\n",
      "Requirement already satisfied: tzdata>=2022.7 in /Data/Projects/venv_manager/financial#311/lib/python3.11/site-packages (from pandas>=1.3.0->yfinance) (2024.1)\n",
      "Requirement already satisfied: charset-normalizer<4,>=2 in /Data/Projects/venv_manager/financial#311/lib/python3.11/site-packages (from requests>=2.31->yfinance) (3.3.2)\n",
      "Requirement already satisfied: idna<4,>=2.5 in /Data/Projects/venv_manager/financial#311/lib/python3.11/site-packages (from requests>=2.31->yfinance) (3.8)\n",
      "Requirement already satisfied: urllib3<3,>=1.21.1 in /Data/Projects/venv_manager/financial#311/lib/python3.11/site-packages (from requests>=2.31->yfinance) (2.2.2)\n",
      "Requirement already satisfied: certifi>=2017.4.17 in /Data/Projects/venv_manager/financial#311/lib/python3.11/site-packages (from requests>=2.31->yfinance) (2024.8.30)\n",
      "\n",
      "\u001b[1m[\u001b[0m\u001b[34;49mnotice\u001b[0m\u001b[1;39;49m]\u001b[0m\u001b[39;49m A new release of pip is available: \u001b[0m\u001b[31;49m24.0\u001b[0m\u001b[39;49m -> \u001b[0m\u001b[32;49m24.2\u001b[0m\n",
      "\u001b[1m[\u001b[0m\u001b[34;49mnotice\u001b[0m\u001b[1;39;49m]\u001b[0m\u001b[39;49m To update, run: \u001b[0m\u001b[32;49mpip install --upgrade pip\u001b[0m\n",
      "Note: you may need to restart the kernel to use updated packages.\n",
      "Requirement already satisfied: pandas-datareader in /Data/Projects/venv_manager/financial#311/lib/python3.11/site-packages (0.10.0)\n",
      "Requirement already satisfied: lxml in /Data/Projects/venv_manager/financial#311/lib/python3.11/site-packages (from pandas-datareader) (5.3.0)\n",
      "Requirement already satisfied: pandas>=0.23 in /Data/Projects/venv_manager/financial#311/lib/python3.11/site-packages (from pandas-datareader) (2.2.2)\n",
      "Requirement already satisfied: requests>=2.19.0 in /Data/Projects/venv_manager/financial#311/lib/python3.11/site-packages (from pandas-datareader) (2.32.3)\n",
      "Requirement already satisfied: numpy>=1.23.2 in /Data/Projects/venv_manager/financial#311/lib/python3.11/site-packages (from pandas>=0.23->pandas-datareader) (2.1.1)\n",
      "Requirement already satisfied: python-dateutil>=2.8.2 in /Data/Projects/venv_manager/financial#311/lib/python3.11/site-packages (from pandas>=0.23->pandas-datareader) (2.9.0.post0)\n",
      "Requirement already satisfied: pytz>=2020.1 in /Data/Projects/venv_manager/financial#311/lib/python3.11/site-packages (from pandas>=0.23->pandas-datareader) (2024.1)\n",
      "Requirement already satisfied: tzdata>=2022.7 in /Data/Projects/venv_manager/financial#311/lib/python3.11/site-packages (from pandas>=0.23->pandas-datareader) (2024.1)\n",
      "Requirement already satisfied: charset-normalizer<4,>=2 in /Data/Projects/venv_manager/financial#311/lib/python3.11/site-packages (from requests>=2.19.0->pandas-datareader) (3.3.2)\n",
      "Requirement already satisfied: idna<4,>=2.5 in /Data/Projects/venv_manager/financial#311/lib/python3.11/site-packages (from requests>=2.19.0->pandas-datareader) (3.8)\n",
      "Requirement already satisfied: urllib3<3,>=1.21.1 in /Data/Projects/venv_manager/financial#311/lib/python3.11/site-packages (from requests>=2.19.0->pandas-datareader) (2.2.2)\n",
      "Requirement already satisfied: certifi>=2017.4.17 in /Data/Projects/venv_manager/financial#311/lib/python3.11/site-packages (from requests>=2.19.0->pandas-datareader) (2024.8.30)\n",
      "Requirement already satisfied: six>=1.5 in /Data/Projects/venv_manager/financial#311/lib/python3.11/site-packages (from python-dateutil>=2.8.2->pandas>=0.23->pandas-datareader) (1.16.0)\n",
      "\n",
      "\u001b[1m[\u001b[0m\u001b[34;49mnotice\u001b[0m\u001b[1;39;49m]\u001b[0m\u001b[39;49m A new release of pip is available: \u001b[0m\u001b[31;49m24.0\u001b[0m\u001b[39;49m -> \u001b[0m\u001b[32;49m24.2\u001b[0m\n",
      "\u001b[1m[\u001b[0m\u001b[34;49mnotice\u001b[0m\u001b[1;39;49m]\u001b[0m\u001b[39;49m To update, run: \u001b[0m\u001b[32;49mpip install --upgrade pip\u001b[0m\n",
      "Note: you may need to restart the kernel to use updated packages.\n"
     ]
    }
   ],
   "source": [
    "%pip install yfinance\n",
    "%pip install pandas-datareader"
   ]
  },
  {
   "cell_type": "code",
   "execution_count": 4,
   "metadata": {},
   "outputs": [
    {
     "name": "stdout",
     "output_type": "stream",
     "text": [
      "                                 Open        High         Low       Close  \\\n",
      "Date                                                                        \n",
      "2023-09-07 00:00:00-04:00  174.288133  177.302721  172.656483  176.656021   \n",
      "2023-09-08 00:00:00-04:00  177.442021  179.322398  176.884859  177.272873   \n",
      "2023-09-11 00:00:00-04:00  179.153276  179.382101  176.437164  178.446884   \n",
      "2023-09-12 00:00:00-04:00  178.576213  179.212954  173.929990  175.402451   \n",
      "2023-09-13 00:00:00-04:00  175.611368  176.397355  173.094250  173.323090   \n",
      "\n",
      "                              Volume  Dividends  Stock Splits  \n",
      "Date                                                           \n",
      "2023-09-07 00:00:00-04:00  112488800        0.0           0.0  \n",
      "2023-09-08 00:00:00-04:00   65551300        0.0           0.0  \n",
      "2023-09-11 00:00:00-04:00   58953100        0.0           0.0  \n",
      "2023-09-12 00:00:00-04:00   90370200        0.0           0.0  \n",
      "2023-09-13 00:00:00-04:00   84267900        0.0           0.0  \n"
     ]
    }
   ],
   "source": [
    "import yfinance as yf\n",
    "\n",
    "# Lấy dữ liệu cổ phiếu\n",
    "ticker = yf.Ticker('AAPL')\n",
    "stock_data = ticker.history(period='1y')\n",
    "print(stock_data.head())"
   ]
  },
  {
   "cell_type": "code",
   "execution_count": 5,
   "metadata": {},
   "outputs": [
    {
     "name": "stdout",
     "output_type": "stream",
     "text": [
      "                                   Open          High           Low  \\\n",
      "Date                                                                  \n",
      "2023-09-11 00:00:00+07:00  18932.973234  18932.973234  18345.904297   \n",
      "2023-09-12 00:00:00+07:00  18443.749604  18835.128906  18345.904779   \n",
      "2023-09-13 00:00:00+07:00  18884.051519  18932.973933  18492.672213   \n",
      "2023-09-14 00:00:00+07:00  18688.362741  18932.974818  18590.517910   \n",
      "2023-09-15 00:00:00+07:00  18786.206830  19275.430966  18688.362003   \n",
      "\n",
      "                                  Close    Volume  Dividends  Stock Splits  \n",
      "Date                                                                        \n",
      "2023-09-11 00:00:00+07:00  18345.904297  15393500        0.0           0.0  \n",
      "2023-09-12 00:00:00+07:00  18835.128906  11118090        0.0           0.0  \n",
      "2023-09-13 00:00:00+07:00  18639.439453  15686060        0.0           0.0  \n",
      "2023-09-14 00:00:00+07:00  18737.285156  17117220        0.0           0.0  \n",
      "2023-09-15 00:00:00+07:00  18981.896484  27331990        0.0           0.0  \n"
     ]
    }
   ],
   "source": [
    "import yfinance as yf\n",
    "\n",
    "# Lấy dữ liệu cổ phiếu\n",
    "ticker = yf.Ticker('MBB.VN')\n",
    "stock_data = ticker.history(period='1y')\n",
    "print(stock_data.head())"
   ]
  },
  {
   "cell_type": "code",
   "execution_count": 6,
   "metadata": {},
   "outputs": [
    {
     "data": {
      "text/plain": [
       "pandas.core.frame.DataFrame"
      ]
     },
     "execution_count": 6,
     "metadata": {},
     "output_type": "execute_result"
    }
   ],
   "source": [
    "type(stock_data)"
   ]
  },
  {
   "cell_type": "code",
   "execution_count": 19,
   "metadata": {},
   "outputs": [
    {
     "name": "stdout",
     "output_type": "stream",
     "text": [
      "MBB Data:\n",
      "                                   Open          High           Low  \\\n",
      "Date                                                                  \n",
      "2023-07-17 00:00:00+07:00  18345.905919  18443.750751  18101.293840   \n",
      "2023-07-19 00:00:00+07:00  18199.136910  18296.981732  18003.447266   \n",
      "2023-07-20 00:00:00+07:00  18003.448679  18101.293509  17905.603849   \n",
      "2023-07-21 00:00:00+07:00  18150.215718  18248.060547  18003.448475   \n",
      "2023-07-24 00:00:00+07:00  18248.059474  18345.904297  18150.214651   \n",
      "\n",
      "                                  Close    Volume  Dividends  Stock Splits  \n",
      "Date                                                                        \n",
      "2023-07-17 00:00:00+07:00  18199.138672  11006300        0.0           0.0  \n",
      "2023-07-19 00:00:00+07:00  18003.447266  11946400        0.0           0.0  \n",
      "2023-07-20 00:00:00+07:00  18052.371094   6450615        0.0           0.0  \n",
      "2023-07-21 00:00:00+07:00  18248.060547   8585758        0.0           0.0  \n",
      "2023-07-24 00:00:00+07:00  18345.904297   8945994        0.0           0.0  \n",
      "\n",
      "Gold Data:\n",
      "                                Open       High        Low      Close  \\\n",
      "Date                                                                    \n",
      "2004-11-18 00:00:00-05:00  44.430000  44.490002  44.070000  44.380001   \n",
      "2004-11-19 00:00:00-05:00  44.490002  44.919998  44.470001  44.779999   \n",
      "2004-11-22 00:00:00-05:00  44.750000  44.970001  44.740002  44.950001   \n",
      "2004-11-23 00:00:00-05:00  44.880001  44.919998  44.720001  44.750000   \n",
      "2004-11-24 00:00:00-05:00  44.930000  45.049999  44.790001  45.049999   \n",
      "\n",
      "                             Volume  Dividends  Stock Splits  Capital Gains  \n",
      "Date                                                                         \n",
      "2004-11-18 00:00:00-05:00   5992000        0.0           0.0            0.0  \n",
      "2004-11-19 00:00:00-05:00  11655300        0.0           0.0            0.0  \n",
      "2004-11-22 00:00:00-05:00  11996000        0.0           0.0            0.0  \n",
      "2004-11-23 00:00:00-05:00   3169200        0.0           0.0            0.0  \n",
      "2004-11-24 00:00:00-05:00   6105100        0.0           0.0            0.0  \n",
      "\n",
      "10-Year Treasury Yield Data:\n",
      "                           Open  High   Low  Close  Volume  Dividends  \\\n",
      "Date                                                                    \n",
      "1962-01-02 00:00:00-06:00  4.06  4.06  4.06   4.06       0        0.0   \n",
      "1962-01-03 00:00:00-06:00  4.03  4.03  4.03   4.03       0        0.0   \n",
      "1962-01-04 00:00:00-06:00  3.99  3.99  3.99   3.99       0        0.0   \n",
      "1962-01-05 00:00:00-06:00  4.02  4.02  4.02   4.02       0        0.0   \n",
      "1962-01-08 00:00:00-06:00  4.03  4.03  4.03   4.03       0        0.0   \n",
      "\n",
      "                           Stock Splits  \n",
      "Date                                     \n",
      "1962-01-02 00:00:00-06:00           0.0  \n",
      "1962-01-03 00:00:00-06:00           0.0  \n",
      "1962-01-04 00:00:00-06:00           0.0  \n",
      "1962-01-05 00:00:00-06:00           0.0  \n",
      "1962-01-08 00:00:00-06:00           0.0  \n",
      "279\n",
      "4984\n",
      "15686\n"
     ]
    }
   ],
   "source": [
    "import yfinance as yf\n",
    "\n",
    "# Lấy dữ liệu giá cổ phiếu MBB\n",
    "ticker_mbb = yf.Ticker('MBB.VN')\n",
    "mbb_data = ticker_mbb.history(period='max')\n",
    "print(\"MBB Data:\")\n",
    "print(mbb_data.head())\n",
    "\n",
    "# # Lấy dữ liệu chỉ số VN Index\n",
    "# ticker_vn = yf.Ticker('^VNINDEX.VN')\n",
    "# vn_data = ticker_vn.history(period='5d')\n",
    "# print(\"\\nVN Index Data:\")\n",
    "# print(vn30_data.head())\n",
    "\n",
    "# Lấy dữ liệu giá vàng qua ETF GLD\n",
    "ticker_gold = yf.Ticker('GLD')\n",
    "gold_data = ticker_gold.history(period='max')\n",
    "print(\"\\nGold Data:\")\n",
    "print(gold_data.head())\n",
    "\n",
    "# Lấy dữ liệu lãi suất US 10-Year Treasury\n",
    "ticker_rate = yf.Ticker('^TNX')\n",
    "rate_data = ticker_rate.history(period='max')\n",
    "print(\"\\n10-Year Treasury Yield Data:\")\n",
    "print(rate_data.head())\n",
    "\n",
    "print(len(mbb_data))\n",
    "print(len(gold_data))\n",
    "print(len(rate_data))"
   ]
  },
  {
   "cell_type": "code",
   "execution_count": 16,
   "metadata": {},
   "outputs": [
    {
     "name": "stdout",
     "output_type": "stream",
     "text": [
      "\n",
      "VN Index Data:\n",
      "                                  Open         High          Low       Close  \\\n",
      "Date                                                                           \n",
      "2024-09-09 00:00:00+07:00  1273.959961  1273.959961  1262.969971  1267.72998   \n",
      "\n",
      "                           Volume  Dividends  Stock Splits  \n",
      "Date                                                        \n",
      "2024-09-09 00:00:00+07:00       0        0.0           0.0  \n"
     ]
    }
   ],
   "source": [
    "# Lấy dữ liệu chỉ số VN Index\n",
    "ticker_vn = yf.Ticker('^VNINDEX.VN')\n",
    "vn_data = ticker_vn.history(period='5d')\n",
    "print(\"\\nVN Index Data:\")\n",
    "print(vn_data.head())"
   ]
  },
  {
   "cell_type": "code",
   "execution_count": 21,
   "metadata": {},
   "outputs": [
    {
     "name": "stdout",
     "output_type": "stream",
     "text": [
      "\n",
      "Gold Data:\n",
      "                                Open       High        Low      Close  \\\n",
      "Date                                                                    \n",
      "2004-11-18 00:00:00-05:00  44.430000  44.490002  44.070000  44.380001   \n",
      "2004-11-19 00:00:00-05:00  44.490002  44.919998  44.470001  44.779999   \n",
      "2004-11-22 00:00:00-05:00  44.750000  44.970001  44.740002  44.950001   \n",
      "2004-11-23 00:00:00-05:00  44.880001  44.919998  44.720001  44.750000   \n",
      "2004-11-24 00:00:00-05:00  44.930000  45.049999  44.790001  45.049999   \n",
      "\n",
      "                             Volume  Dividends  Stock Splits  Capital Gains  \n",
      "Date                                                                         \n",
      "2004-11-18 00:00:00-05:00   5992000        0.0           0.0            0.0  \n",
      "2004-11-19 00:00:00-05:00  11655300        0.0           0.0            0.0  \n",
      "2004-11-22 00:00:00-05:00  11996000        0.0           0.0            0.0  \n",
      "2004-11-23 00:00:00-05:00   3169200        0.0           0.0            0.0  \n",
      "2004-11-24 00:00:00-05:00   6105100        0.0           0.0            0.0  \n",
      "4984\n"
     ]
    }
   ],
   "source": [
    "# Lấy dữ liệu giá vàng qua ETF GLD\n",
    "ticker_gold = yf.Ticker('GLD')\n",
    "gold_data = ticker_gold.history(period='max')\n",
    "print(\"\\nGold Data:\")\n",
    "print(gold_data.head())\n",
    "print(len(gold_data))"
   ]
  },
  {
   "cell_type": "code",
   "execution_count": null,
   "metadata": {},
   "outputs": [],
   "source": []
  }
 ],
 "metadata": {
  "kernelspec": {
   "display_name": ".venv",
   "language": "python",
   "name": "python3"
  },
  "language_info": {
   "codemirror_mode": {
    "name": "ipython",
    "version": 3
   },
   "file_extension": ".py",
   "mimetype": "text/x-python",
   "name": "python",
   "nbconvert_exporter": "python",
   "pygments_lexer": "ipython3",
   "version": "3.11.9"
  }
 },
 "nbformat": 4,
 "nbformat_minor": 2
}
